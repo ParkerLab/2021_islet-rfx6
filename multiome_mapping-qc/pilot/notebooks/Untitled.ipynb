{
 "cells": [
  {
   "cell_type": "code",
   "execution_count": 1,
   "metadata": {},
   "outputs": [],
   "source": [
    "library(Matrix)"
   ]
  },
  {
   "cell_type": "code",
   "execution_count": 19,
   "metadata": {},
   "outputs": [],
   "source": [
    "read_solo <- function(matrix_dir) {\n",
    "    barcode.path <- paste0(matrix_dir, \"barcodes.tsv\")\n",
    "    features.path <- paste0(matrix_dir, \"features.tsv\")\n",
    "    matrix.path <- paste0(matrix_dir, \"matrix.mtx\")\n",
    "    mat <- readMM(file = matrix.path)\n",
    "    feature.names = read.delim(features.path,\n",
    "                               header = FALSE,\n",
    "                               stringsAsFactors = FALSE)\n",
    "    barcode.names = read.delim(barcode.path,\n",
    "                               header = FALSE,\n",
    "                               stringsAsFactors = FALSE)\n",
    "    colnames(mat) = barcode.names$V1\n",
    "    rownames(mat) = feature.names$V1\n",
    "    mat\n",
    "}"
   ]
  },
  {
   "cell_type": "code",
   "execution_count": 20,
   "metadata": {},
   "outputs": [
    {
     "data": {
      "text/html": [
       "<style>\n",
       ".list-inline {list-style: none; margin:0; padding: 0}\n",
       ".list-inline>li {display: inline-block}\n",
       ".list-inline>li:not(:last-child)::after {content: \"\\00b7\"; padding: 0 .5ex}\n",
       "</style>\n",
       "<ol class=list-inline><li>57822</li><li>736320</li></ol>\n"
      ],
      "text/latex": [
       "\\begin{enumerate*}\n",
       "\\item 57822\n",
       "\\item 736320\n",
       "\\end{enumerate*}\n"
      ],
      "text/markdown": [
       "1. 57822\n",
       "2. 736320\n",
       "\n",
       "\n"
      ],
      "text/plain": [
       "[1]  57822 736320"
      ]
     },
     "metadata": {},
     "output_type": "display_data"
    }
   ],
   "source": [
    "counts.in <- read_solo(\"/lab/work/vivekrai/2021-08_rfx6-all/work/rnaseq-remap/starsolo/3528_CV1-hg19-mCherry-mKate2/Solo.out/GeneFull/raw/\")\n",
    "dim(counts.in)"
   ]
  },
  {
   "cell_type": "code",
   "execution_count": 21,
   "metadata": {},
   "outputs": [
    {
     "data": {
      "text/html": [
       "<style>\n",
       ".list-inline {list-style: none; margin:0; padding: 0}\n",
       ".list-inline>li {display: inline-block}\n",
       ".list-inline>li:not(:last-child)::after {content: \"\\00b7\"; padding: 0 .5ex}\n",
       "</style>\n",
       "<ol class=list-inline><li>57822</li><li>736320</li></ol>\n"
      ],
      "text/latex": [
       "\\begin{enumerate*}\n",
       "\\item 57822\n",
       "\\item 736320\n",
       "\\end{enumerate*}\n"
      ],
      "text/markdown": [
       "1. 57822\n",
       "2. 736320\n",
       "\n",
       "\n"
      ],
      "text/plain": [
       "[1]  57822 736320"
      ]
     },
     "metadata": {},
     "output_type": "display_data"
    }
   ],
   "source": [
    "counts.ex <- read_solo(\"/lab/work/vivekrai/2021-06_pilot-rfx6/work/rnaseq/starsolo/3528_CV1-hg19-mCherry-mKate2/Solo.out/Gene/raw/\")\n",
    "dim(counts.ex)"
   ]
  },
  {
   "cell_type": "code",
   "execution_count": 10,
   "metadata": {},
   "outputs": [],
   "source": [
    "# INS, INS-IGF2\n",
    "genes_of_interest <- c(\"ENSG00000254647.2\", \"ENSG00000129965.9\")"
   ]
  },
  {
   "cell_type": "code",
   "execution_count": 22,
   "metadata": {},
   "outputs": [
    {
     "data": {
      "text/plain": [
       "\n",
       "  TRUE \n",
       "736320 "
      ]
     },
     "metadata": {},
     "output_type": "display_data"
    },
    {
     "data": {
      "text/plain": [
       "\n",
       " TRUE \n",
       "57822 "
      ]
     },
     "metadata": {},
     "output_type": "display_data"
    }
   ],
   "source": [
    "#check colnames\n",
    "table(colnames(counts.in) == colnames(counts.ex))\n",
    "\n",
    "#check rownames\n",
    "table(row.names(counts.in) == row.names(counts.ex))"
   ]
  },
  {
   "cell_type": "code",
   "execution_count": 27,
   "metadata": {},
   "outputs": [
    {
     "data": {
      "text/html": [
       "<style>\n",
       ".dl-inline {width: auto; margin:0; padding: 0}\n",
       ".dl-inline>dt, .dl-inline>dd {float: none; width: auto; display: inline-block}\n",
       ".dl-inline>dt::after {content: \":\\0020\"; padding-right: .5ex}\n",
       ".dl-inline>dt:not(:first-of-type) {padding-left: .5ex}\n",
       "</style><dl class=dl-inline><dt>ENSG00000254647.2</dt><dd>0</dd><dt>ENSG00000129965.9</dt><dd>655</dd></dl>\n"
      ],
      "text/latex": [
       "\\begin{description*}\n",
       "\\item[ENSG00000254647.2] 0\n",
       "\\item[ENSG00000129965.9] 655\n",
       "\\end{description*}\n"
      ],
      "text/markdown": [
       "ENSG00000254647.2\n",
       ":   0ENSG00000129965.9\n",
       ":   655\n",
       "\n"
      ],
      "text/plain": [
       "ENSG00000254647.2 ENSG00000129965.9 \n",
       "                0               655 "
      ]
     },
     "metadata": {},
     "output_type": "display_data"
    }
   ],
   "source": [
    "Matrix::rowSums(counts.in[genes_of_interest, ])"
   ]
  },
  {
   "cell_type": "code",
   "execution_count": 28,
   "metadata": {},
   "outputs": [
    {
     "data": {
      "text/html": [
       "<style>\n",
       ".dl-inline {width: auto; margin:0; padding: 0}\n",
       ".dl-inline>dt, .dl-inline>dd {float: none; width: auto; display: inline-block}\n",
       ".dl-inline>dt::after {content: \":\\0020\"; padding-right: .5ex}\n",
       ".dl-inline>dt:not(:first-of-type) {padding-left: .5ex}\n",
       "</style><dl class=dl-inline><dt>ENSG00000254647.2</dt><dd>772447</dd><dt>ENSG00000129965.9</dt><dd>108</dd></dl>\n"
      ],
      "text/latex": [
       "\\begin{description*}\n",
       "\\item[ENSG00000254647.2] 772447\n",
       "\\item[ENSG00000129965.9] 108\n",
       "\\end{description*}\n"
      ],
      "text/markdown": [
       "ENSG00000254647.2\n",
       ":   772447ENSG00000129965.9\n",
       ":   108\n",
       "\n"
      ],
      "text/plain": [
       "ENSG00000254647.2 ENSG00000129965.9 \n",
       "           772447               108 "
      ]
     },
     "metadata": {},
     "output_type": "display_data"
    }
   ],
   "source": [
    "Matrix::rowSums(counts.ex[genes_of_interest, ])"
   ]
  },
  {
   "cell_type": "code",
   "execution_count": 24,
   "metadata": {},
   "outputs": [
    {
     "data": {
      "text/plain": [
       "d\n",
       "FALSE  TRUE \n",
       "36406 21416 "
      ]
     },
     "metadata": {},
     "output_type": "display_data"
    }
   ],
   "source": [
    "# finding genes that were not counted in intronic marix\n",
    "mean.in <- Matrix::rowMeans(counts.in)\n",
    "d <- (mean.in == 0)\n",
    "table(d)"
   ]
  },
  {
   "cell_type": "code",
   "execution_count": null,
   "metadata": {},
   "outputs": [],
   "source": [
    "\n",
    "#replacing zero mean count gene data in intronic matrix from\n",
    "#exonic matrix\n",
    "counts.in <- counts.in[!d,]\n",
    "dim(counts.in)\n",
    "counts.ex <- counts.ex[d,]\n",
    "dim(counts.ex)\n",
    "\n",
    "counts.in <- rbind(counts.in,counts.ex)\n",
    "dim(counts.in)"
   ]
  }
 ],
 "metadata": {
  "kernelspec": {
   "display_name": "R",
   "language": "R",
   "name": "ir"
  },
  "language_info": {
   "codemirror_mode": "r",
   "file_extension": ".r",
   "mimetype": "text/x-r-source",
   "name": "R",
   "pygments_lexer": "r",
   "version": "4.1.0"
  }
 },
 "nbformat": 4,
 "nbformat_minor": 4
}
